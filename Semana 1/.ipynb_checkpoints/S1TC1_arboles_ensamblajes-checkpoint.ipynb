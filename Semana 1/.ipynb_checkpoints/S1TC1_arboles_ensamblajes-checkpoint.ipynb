{
 "cells": [
  {
   "cell_type": "markdown",
   "metadata": {},
   "source": [
    "![image info](https://raw.githubusercontent.com/albahnsen/MIAD_ML_and_NLP/main/images/banner_1.png)"
   ]
  },
  {
   "cell_type": "markdown",
   "metadata": {},
   "source": [
    "# Taller: Construcción e implementación de árboles de decisión y métodos de ensamblaje\n",
    "\n",
    "En este taller podrá poner en práctica los sus conocimientos sobre construcción e implementación de árboles de decisión y métodos de ensamblajes. El taller está constituido por 9 puntos, 5 relacionados con árboles de decisión (parte A) y 4 con métodos de ensamblaje (parte B)."
   ]
  },
  {
   "cell_type": "markdown",
   "metadata": {},
   "source": [
    "## Parte A - Árboles de decisión\n",
    "\n",
    "En esta parte del taller se usará el conjunto de datos de Capital Bikeshare de Kaggle, donde cada observación representa el alquiler de bicicletas durante una hora y día determinado. Para más detalles puede visitar los siguientes enlaces: [datos](https://archive.ics.uci.edu/ml/machine-learning-databases/00275/Bike-Sharing-Dataset.zip), [dicccionario de datos](https://archive.ics.uci.edu/ml/datasets/Bike+Sharing+Dataset#)."
   ]
  },
  {
   "cell_type": "markdown",
   "metadata": {},
   "source": [
    "### Datos prestamo de bicicletas"
   ]
  },
  {
   "cell_type": "code",
   "execution_count": 1,
   "metadata": {},
   "outputs": [],
   "source": [
    "import warnings\n",
    "warnings.filterwarnings('ignore')"
   ]
  },
  {
   "cell_type": "code",
   "execution_count": 2,
   "metadata": {},
   "outputs": [],
   "source": [
    "# Importación de librerías\n",
    "%matplotlib inline\n",
    "import pandas as pd\n",
    "import numpy as np\n",
    "from sklearn.model_selection import cross_val_score\n",
    "from sklearn.linear_model import LinearRegression\n",
    "from sklearn.tree import DecisionTreeRegressor, export_graphviz"
   ]
  },
  {
   "cell_type": "code",
   "execution_count": 42,
   "metadata": {},
   "outputs": [
    {
     "data": {
      "text/html": [
       "<div>\n",
       "<style scoped>\n",
       "    .dataframe tbody tr th:only-of-type {\n",
       "        vertical-align: middle;\n",
       "    }\n",
       "\n",
       "    .dataframe tbody tr th {\n",
       "        vertical-align: top;\n",
       "    }\n",
       "\n",
       "    .dataframe thead th {\n",
       "        text-align: right;\n",
       "    }\n",
       "</style>\n",
       "<table border=\"1\" class=\"dataframe\">\n",
       "  <thead>\n",
       "    <tr style=\"text-align: right;\">\n",
       "      <th></th>\n",
       "      <th>season</th>\n",
       "      <th>holiday</th>\n",
       "      <th>workingday</th>\n",
       "      <th>weather</th>\n",
       "      <th>temp</th>\n",
       "      <th>atemp</th>\n",
       "      <th>humidity</th>\n",
       "      <th>windspeed</th>\n",
       "      <th>casual</th>\n",
       "      <th>registered</th>\n",
       "      <th>total</th>\n",
       "      <th>hour</th>\n",
       "    </tr>\n",
       "    <tr>\n",
       "      <th>datetime</th>\n",
       "      <th></th>\n",
       "      <th></th>\n",
       "      <th></th>\n",
       "      <th></th>\n",
       "      <th></th>\n",
       "      <th></th>\n",
       "      <th></th>\n",
       "      <th></th>\n",
       "      <th></th>\n",
       "      <th></th>\n",
       "      <th></th>\n",
       "      <th></th>\n",
       "    </tr>\n",
       "  </thead>\n",
       "  <tbody>\n",
       "    <tr>\n",
       "      <th>2011-01-01 00:00:00</th>\n",
       "      <td>1</td>\n",
       "      <td>0</td>\n",
       "      <td>0</td>\n",
       "      <td>1</td>\n",
       "      <td>9.84</td>\n",
       "      <td>14.395</td>\n",
       "      <td>81</td>\n",
       "      <td>0.0</td>\n",
       "      <td>3</td>\n",
       "      <td>13</td>\n",
       "      <td>16</td>\n",
       "      <td>0</td>\n",
       "    </tr>\n",
       "    <tr>\n",
       "      <th>2011-01-01 01:00:00</th>\n",
       "      <td>1</td>\n",
       "      <td>0</td>\n",
       "      <td>0</td>\n",
       "      <td>1</td>\n",
       "      <td>9.02</td>\n",
       "      <td>13.635</td>\n",
       "      <td>80</td>\n",
       "      <td>0.0</td>\n",
       "      <td>8</td>\n",
       "      <td>32</td>\n",
       "      <td>40</td>\n",
       "      <td>1</td>\n",
       "    </tr>\n",
       "    <tr>\n",
       "      <th>2011-01-01 02:00:00</th>\n",
       "      <td>1</td>\n",
       "      <td>0</td>\n",
       "      <td>0</td>\n",
       "      <td>1</td>\n",
       "      <td>9.02</td>\n",
       "      <td>13.635</td>\n",
       "      <td>80</td>\n",
       "      <td>0.0</td>\n",
       "      <td>5</td>\n",
       "      <td>27</td>\n",
       "      <td>32</td>\n",
       "      <td>2</td>\n",
       "    </tr>\n",
       "    <tr>\n",
       "      <th>2011-01-01 03:00:00</th>\n",
       "      <td>1</td>\n",
       "      <td>0</td>\n",
       "      <td>0</td>\n",
       "      <td>1</td>\n",
       "      <td>9.84</td>\n",
       "      <td>14.395</td>\n",
       "      <td>75</td>\n",
       "      <td>0.0</td>\n",
       "      <td>3</td>\n",
       "      <td>10</td>\n",
       "      <td>13</td>\n",
       "      <td>3</td>\n",
       "    </tr>\n",
       "    <tr>\n",
       "      <th>2011-01-01 04:00:00</th>\n",
       "      <td>1</td>\n",
       "      <td>0</td>\n",
       "      <td>0</td>\n",
       "      <td>1</td>\n",
       "      <td>9.84</td>\n",
       "      <td>14.395</td>\n",
       "      <td>75</td>\n",
       "      <td>0.0</td>\n",
       "      <td>0</td>\n",
       "      <td>1</td>\n",
       "      <td>1</td>\n",
       "      <td>4</td>\n",
       "    </tr>\n",
       "  </tbody>\n",
       "</table>\n",
       "</div>"
      ],
      "text/plain": [
       "                     season  holiday  workingday  weather  temp   atemp  \\\n",
       "datetime                                                                  \n",
       "2011-01-01 00:00:00       1        0           0        1  9.84  14.395   \n",
       "2011-01-01 01:00:00       1        0           0        1  9.02  13.635   \n",
       "2011-01-01 02:00:00       1        0           0        1  9.02  13.635   \n",
       "2011-01-01 03:00:00       1        0           0        1  9.84  14.395   \n",
       "2011-01-01 04:00:00       1        0           0        1  9.84  14.395   \n",
       "\n",
       "                     humidity  windspeed  casual  registered  total  hour  \n",
       "datetime                                                                   \n",
       "2011-01-01 00:00:00        81        0.0       3          13     16     0  \n",
       "2011-01-01 01:00:00        80        0.0       8          32     40     1  \n",
       "2011-01-01 02:00:00        80        0.0       5          27     32     2  \n",
       "2011-01-01 03:00:00        75        0.0       3          10     13     3  \n",
       "2011-01-01 04:00:00        75        0.0       0           1      1     4  "
      ]
     },
     "execution_count": 42,
     "metadata": {},
     "output_type": "execute_result"
    }
   ],
   "source": [
    "# Lectura de la información de archivo .csv\n",
    "bikes = pd.read_csv('https://raw.githubusercontent.com/davidzarruk/MIAD_ML_NLP_2023/main/datasets/bikeshare.csv', index_col='datetime', parse_dates=True)\n",
    "\n",
    "# Renombrar variable \"count\" a \"total\"\n",
    "bikes.rename(columns={'count':'total'}, inplace=True)\n",
    "\n",
    "# Crear la hora como una variable \n",
    "bikes['hour'] = bikes.index.hour\n",
    "\n",
    "# Visualización de los datos\n",
    "bikes.head()"
   ]
  },
  {
   "cell_type": "markdown",
   "metadata": {},
   "source": [
    "### Punto 1 - Análisis descriptivo\n",
    "\n",
    "Ejecute las celdas 1.1 y 1.2. A partir de los resultados realice un análisis descriptivo sobre las variables \"season\" y \"hour\", escriba sus inferencias sobre los datos. Para complementar su análisis puede usar métricas como máximo, mínimo, percentiles entre otros."
   ]
  },
  {
   "cell_type": "code",
   "execution_count": 43,
   "metadata": {},
   "outputs": [
    {
     "data": {
      "text/plain": [
       "season\n",
       "1    116.343261\n",
       "2    215.251372\n",
       "3    234.417124\n",
       "4    198.988296\n",
       "Name: total, dtype: float64"
      ]
     },
     "execution_count": 43,
     "metadata": {},
     "output_type": "execute_result"
    }
   ],
   "source": [
    "# Celda 1.1\n",
    "bikes.groupby('season').total.mean()"
   ]
  },
  {
   "cell_type": "markdown",
   "metadata": {},
   "source": [
    "El promedio de bicicletas alquiladas en cada estación:  \n",
    "\n",
    "* 1. Invierno 116.34\n",
    "* 2. Primavera 215.25\n",
    "* 3. Verano 234.42\n",
    "* 4. Otoño 198.99\n",
    "    \n",
    "Esta información sugiere que en promedio se alquilan más bicicletas durante el verano, seguida de la primavera, el otoñño y finalmente el invierno.\n"
   ]
  },
  {
   "cell_type": "code",
   "execution_count": 44,
   "metadata": {
    "scrolled": true
   },
   "outputs": [
    {
     "data": {
      "text/plain": [
       "hour\n",
       "0      55.138462\n",
       "1      33.859031\n",
       "2      22.899554\n",
       "3      11.757506\n",
       "4       6.407240\n",
       "5      19.767699\n",
       "6      76.259341\n",
       "7     213.116484\n",
       "8     362.769231\n",
       "9     221.780220\n",
       "10    175.092308\n",
       "11    210.674725\n",
       "12    256.508772\n",
       "13    257.787281\n",
       "14    243.442982\n",
       "15    254.298246\n",
       "16    316.372807\n",
       "17    468.765351\n",
       "18    430.859649\n",
       "19    315.278509\n",
       "20    228.517544\n",
       "21    173.370614\n",
       "22    133.576754\n",
       "23     89.508772\n",
       "Name: total, dtype: float64"
      ]
     },
     "execution_count": 44,
     "metadata": {},
     "output_type": "execute_result"
    }
   ],
   "source": [
    "# Celda 1.2\n",
    "bikes.groupby('hour').total.mean()"
   ]
  },
  {
   "cell_type": "markdown",
   "metadata": {},
   "source": [
    "Las horas con mayor frecuencia promedio de alquiler de bicicletas son:\n",
    "* Hora 17 (5:00 PM): 468.77\n",
    "* Hora 18 (6:00 PM): 430.86\n",
    "* Hora 16 (4:00 PM): 316.37\n",
    "* Hora 8 (8:00 AM): 362.77\n",
    "* Hora 13 (1:00 PM): 257.79    "
   ]
  },
  {
   "cell_type": "code",
   "execution_count": 45,
   "metadata": {},
   "outputs": [
    {
     "name": "stdout",
     "output_type": "stream",
     "text": [
      "\n",
      "Percentiles por estación:\n",
      "season      \n",
      "1       0.25     24.0\n",
      "        0.50     78.0\n",
      "        0.75    164.0\n",
      "2       0.25     49.0\n",
      "        0.50    172.0\n",
      "        0.75    321.0\n",
      "3       0.25     68.0\n",
      "        0.50    195.0\n",
      "        0.75    347.0\n",
      "4       0.25     51.0\n",
      "        0.50    161.0\n",
      "        0.75    294.0\n",
      "Name: total, dtype: float64\n",
      "\n",
      "Percentiles por hora:\n",
      "hour      \n",
      "0     0.25     24.00\n",
      "      0.50     41.00\n",
      "      0.75     74.50\n",
      "1     0.25     11.00\n",
      "      0.50     19.00\n",
      "               ...  \n",
      "22    0.50    129.00\n",
      "      0.75    175.00\n",
      "23    0.25     52.75\n",
      "      0.50     80.00\n",
      "      0.75    123.00\n",
      "Name: total, Length: 72, dtype: float64\n",
      "\n",
      "Desviación estándar por estación:\n",
      "season\n",
      "1    125.273974\n",
      "2    192.007843\n",
      "3    197.151001\n",
      "4    177.622409\n",
      "Name: total, dtype: float64\n",
      "\n",
      "Desviación estándar por hora:\n",
      "hour\n",
      "0      43.620012\n",
      "1      34.112105\n",
      "2      26.110267\n",
      "3      12.666442\n",
      "4       4.217633\n",
      "5      12.784293\n",
      "6      54.745333\n",
      "7     159.207044\n",
      "8     231.723065\n",
      "9      92.099209\n",
      "10    101.807629\n",
      "11    127.444294\n",
      "12    143.881880\n",
      "13    149.167185\n",
      "14    147.563199\n",
      "15    144.235670\n",
      "16    145.664786\n",
      "17    223.775485\n",
      "18    219.908138\n",
      "19    156.641732\n",
      "20    116.411565\n",
      "21     87.629319\n",
      "22     69.844495\n",
      "23     51.638004\n",
      "Name: total, dtype: float64\n",
      "\n",
      "Rango por estación:\n",
      "season\n",
      "1    800\n",
      "2    872\n",
      "3    976\n",
      "4    947\n",
      "Name: total, dtype: int64\n",
      "\n",
      "Rango por hora:\n",
      "hour\n",
      "0     281\n",
      "1     167\n",
      "2     118\n",
      "3      65\n",
      "4      27\n",
      "5      56\n",
      "6     212\n",
      "7     595\n",
      "8     831\n",
      "9     400\n",
      "10    522\n",
      "11    637\n",
      "12    754\n",
      "13    718\n",
      "14    718\n",
      "15    717\n",
      "16    772\n",
      "17    955\n",
      "18    954\n",
      "19    732\n",
      "20    540\n",
      "21    578\n",
      "22    493\n",
      "23    252\n",
      "Name: total, dtype: int64\n"
     ]
    }
   ],
   "source": [
    "# Percentiles\n",
    "season_percentiles = bikes.groupby('season')['total'].quantile([0.25, 0.5, 0.75])\n",
    "hour_percentiles = bikes.groupby('hour')['total'].quantile([0.25, 0.5, 0.75])\n",
    "\n",
    "print(\"\\nPercentiles por estación:\")\n",
    "print(season_percentiles)\n",
    "\n",
    "print(\"\\nPercentiles por hora:\")\n",
    "print(hour_percentiles)\n",
    "\n",
    "# Desviación estándar\n",
    "season_std = bikes.groupby('season')['total'].std()\n",
    "hour_std = bikes.groupby('hour')['total'].std()\n",
    "\n",
    "print(\"\\nDesviación estándar por estación:\")\n",
    "print(season_std)\n",
    "\n",
    "print(\"\\nDesviación estándar por hora:\")\n",
    "print(hour_std)\n",
    "\n",
    "# Rango\n",
    "season_range = bikes.groupby('season')['total'].apply(lambda x: x.max() - x.min())\n",
    "hour_range = bikes.groupby('hour')['total'].apply(lambda x: x.max() - x.min())\n",
    "\n",
    "print(\"\\nRango por estación:\")\n",
    "print(season_range)\n",
    "\n",
    "print(\"\\nRango por hora:\")\n",
    "print(hour_range)"
   ]
  },
  {
   "cell_type": "markdown",
   "metadata": {},
   "source": [
    "#### Variabilidad por estación:\n",
    "\n",
    "* Los percentiles muestran que, en general, hay una amplia gama de valores de alquiler de bicicletas en cada estación. Esto sugiere que la demanda de bicicletas varía significativamente según la estación del año.\n",
    "* La desviación estándar es mayor en la estación 3, lo que indica una mayor dispersión de los datos y posiblemente una mayor variabilidad en la demanda de bicicletas en comparación con otras estaciones.\n",
    "* Los rangos muestran que la estación 3 tiene la mayor diferencia entre el valor máximo y mínimo de bicicletas alquiladas, lo que confirma una mayor variabilidad en la demanda durante esta estación.\n",
    "\n",
    "#### Variabilidad por hora:\n",
    "\n",
    "* Los percentiles muestran que la distribución del alquiler de bicicletas varía significativamente a lo largo del día. Por ejemplo, durante las horas pico, como entre las 5:00 PM y las 6:00 PM, los percentiles son más altos, lo que indica una mayor demanda de bicicletas durante esas horas.\n",
    "* La desviación estándar es más alta durante las horas pico de alquiler de bicicletas, lo que indica una mayor variabilidad en la demanda de bicicletas durante estas horas.\n",
    "* Los rangos son más amplios durante las horas pico, lo que indica una mayor variabilidad entre el número máximo y mínimo de bicicletas alquiladas durante estas horas.\n",
    "\n",
    "En resumen, estos análisis muestran que tanto la estación como la hora del día influyen significativamente en la demanda de alquiler de bicicletas. La estación 3 y las horas pico del día tienden a tener una mayor variabilidad y dispersión en los datos."
   ]
  },
  {
   "cell_type": "markdown",
   "metadata": {},
   "source": [
    "### Punto 2 - Análisis de gráficos\n",
    "\n",
    "Primero ejecute la celda 2.1 y asegúrese de comprender el código y el resultado. Luego, en cada una de celdas 2.2 y 2.3 escriba un código que genere una gráfica del número de bicicletas rentadas promedio para cada valor de la variable \"hour\" (hora) cuando la variable \"season\" es igual a 1 (invierno) e igual a 3 (verano), respectivamente. Analice y escriba sus hallazgos."
   ]
  },
  {
   "cell_type": "code",
   "execution_count": 46,
   "metadata": {},
   "outputs": [
    {
     "data": {
      "text/plain": [
       "<Axes: xlabel='hour'>"
      ]
     },
     "execution_count": 46,
     "metadata": {},
     "output_type": "execute_result"
    },
    {
     "data": {
      "image/png": "[encoded data removed]",
      "text/plain": [
       "<Figure size 640x480 with 1 Axes>"
      ]
     },
     "metadata": {},
     "output_type": "display_data"
    }
   ],
   "source": [
    "# Celda 2.1 - rentas promedio para cada valor de la variable \"hour\"\n",
    "bikes.groupby('hour').total.mean().plot()"
   ]
  },
  {
   "cell_type": "markdown",
   "metadata": {},
   "source": [
    "Se identifican los siguientes picos en la gráfica:\n",
    "* Mañana: Entre las 7:00 AM y las 9:00 AM , hay un pico en los alquileres.\n",
    "* Tarde: Entre las 5:00 PM y las 7:00 PM, se observa un segundo pico.\n",
    "\n",
    "Hay un valle en la demanda durante el medio día"
   ]
  },
  {
   "cell_type": "code",
   "execution_count": 47,
   "metadata": {},
   "outputs": [
    {
     "data": {
      "image/png": "[encoded data removed]",
      "text/plain": [
       "<Figure size 1000x500 with 1 Axes>"
      ]
     },
     "metadata": {},
     "output_type": "display_data"
    }
   ],
   "source": [
    "# Celda 2.2 - \"season\"=1 escriba su código y hallazgos \n",
    "\n",
    "import matplotlib.pyplot as plt\n",
    "# Filtrar los datos para la temporada de invierno (season=1)\n",
    "bikes_invierno = bikes[bikes['season'] == 1]\n",
    "\n",
    "# Calcular el número promedio de bicicletas alquiladas para cada hora del día\n",
    "promedio_invierno = bikes_invierno.groupby('hour')['total'].mean()\n",
    "\n",
    "# Crear gráfico\n",
    "plt.figure(figsize=(10, 5))\n",
    "promedio_invierno.plot(marker='o', color='blue')\n",
    "plt.title('Número promedio de bicicletas alquiladas - Invierno')\n",
    "plt.xlabel('Hora del día')\n",
    "plt.ylabel('Número promedio de bicicletas alquiladas')\n",
    "plt.grid(True)"
   ]
  },
  {
   "cell_type": "markdown",
   "metadata": {},
   "source": [
    "Se identifican los siguientes picos en la gráfica:\n",
    "* Mañana: Entre las 7:00 AM y las 9:00 AM , hay un pico en los alquileres.\n",
    "* Tarde: Entre las 4:00 PM y las 6:00 PM, se observa un segundo pico.\n",
    "\n",
    "Hay un valle en la demanda durante el medio día"
   ]
  },
  {
   "cell_type": "code",
   "execution_count": 48,
   "metadata": {},
   "outputs": [
    {
     "data": {
      "image/png": "[encoded data removed]",
      "text/plain": [
       "<Figure size 1000x500 with 1 Axes>"
      ]
     },
     "metadata": {},
     "output_type": "display_data"
    }
   ],
   "source": [
    "# Celda 2.3 - \"season\"=3 escriba su código y hallazgos \n",
    "\n",
    "bikes_verano = bikes[bikes['season'] == 3]\n",
    "\n",
    "# Calcular el número promedio de bicicletas alquiladas para cada hora del día\n",
    "promedio_verano = bikes_verano.groupby('hour')['total'].mean()\n",
    "\n",
    "# Crear gráfico\n",
    "plt.figure(figsize=(10, 5))\n",
    "promedio_verano.plot(marker='o', color='green')\n",
    "plt.title('Número promedio de bicicletas alquiladas - Verano')\n",
    "plt.xlabel('Hora del día')\n",
    "plt.ylabel('Número promedio de bicicletas alquiladas')\n",
    "plt.grid(True)"
   ]
  },
  {
   "cell_type": "markdown",
   "metadata": {},
   "source": [
    "Se identifican los siguientes picos en la gráfica:\n",
    "* Mañana: Entre las 7:00 AM y las 9:00 AM , hay un pico en los alquileres.\n",
    "* Tarde: Entre las 5:00 PM y las 7:00 PM, se observa un segundo pico.\n",
    "\n",
    "Hay un valle en la demanda durante el medio día"
   ]
  },
  {
   "cell_type": "markdown",
   "metadata": {},
   "source": [
    "### Punto 3 - Regresión lineal\n",
    "En la celda 3 ajuste un modelo de regresión lineal a todo el conjunto de datos, utilizando \"total\" como variable de respuesta y \"season\" y \"hour\" como las únicas variables predictoras, teniendo en cuenta que la variable \"season\" es categórica. Luego, imprima los coeficientes e interprételos. ¿Cuáles son las limitaciones de la regresión lineal en este caso?"
   ]
  },
  {
   "cell_type": "code",
   "execution_count": 56,
   "metadata": {},
   "outputs": [
    {
     "name": "stdout",
     "output_type": "stream",
     "text": [
      "Coeficientes del modelo:\n",
      "Intercepto: 10.545206094069886\n",
      "Coeficiente para la variable season_1: -75.96697493374126\n",
      "Coeficiente para la variable season_2: 24.35025698232438\n",
      "Coeficiente para la variable season_3: 43.50057501219033\n",
      "Coeficiente para la variable season_4: 8.116142939226213\n",
      "\n",
      "Interpretación de los coeficientes:\n",
      "- El coeficiente del intercepto representa el número promedio de bicicletas alquiladas cuando todas las variables predictoras son cero.\n",
      "- Los coeficientes para las variables 'season' representan el cambio en el número de bicicletas alquiladas cuando se compara con la temporada de referencia (en este caso, 'season_4').\n",
      "\n",
      "Limitaciones de la regresión lineal en este caso:\n",
      "- La regresión lineal asume una relación lineal entre las variables predictoras y la variable de respuesta. Esto puede no ser cierto para todos los casos, especialmente si hay relaciones no lineales en los datos.\n",
      "- La regresión lineal también asume independencia entre las variables predictoras. Si las variables están correlacionadas entre sí, esto puede afectar la precisión de los coeficientes estimados.\n",
      "- Además, la regresión lineal puede no capturar adecuadamente la complejidad de los datos si hay interacciones entre las variables predictoras que no se tienen en cuenta en el modelo lineal.\n",
      "Error cuadrático medio: 25480.694694371625\n"
     ]
    }
   ],
   "source": [
    "# Celda 3\n",
    "\n",
    "from sklearn.preprocessing import OneHotEncoder\n",
    "\n",
    "# Convertir la variable categórica \"season\" en variables dummy\n",
    "bikes_encoded = pd.get_dummies(bikes, columns=['season'])\n",
    "\n",
    "# Definir las variables predictoras y la variable de respuesta\n",
    "X = bikes_encoded[['hour', 'season_1', 'season_2', 'season_3', 'season_4']]\n",
    "y = bikes_encoded['total']\n",
    "\n",
    "# Inicializar el modelo de regresión lineal\n",
    "modelo = LinearRegression()\n",
    "\n",
    "# Ajustar el modelo a los datos\n",
    "modelo.fit(X, y)\n",
    "\n",
    "# Imprimir los coeficientes\n",
    "print(\"Coeficientes del modelo:\")\n",
    "for i, coef in enumerate(modelo.coef_):\n",
    "    if i == 0:\n",
    "        print(f\"Intercepto: {coef}\")\n",
    "    else:\n",
    "        print(f\"Coeficiente para la variable {X.columns[i]}: {coef}\")\n",
    "        \n",
    "# Predecir los valores de 'y' usando el modelo ajustado\n",
    "y_pred = modelo.predict(X)\n",
    "\n",
    "# Calcular el error cuadrático medio\n",
    "mse = mean_squared_error(y, y_pred)\n",
    "\n",
    "\n",
    "# Interpretación de los coeficientes\n",
    "print(\"\\nInterpretación de los coeficientes:\")\n",
    "print(\"- El coeficiente del intercepto representa el número promedio de bicicletas alquiladas cuando todas las variables predictoras son cero.\")\n",
    "print(\"- Los coeficientes para las variables 'season' representan el cambio en el número de bicicletas alquiladas cuando se compara con la temporada de referencia (en este caso, 'season_4').\")\n",
    "\n",
    "# Limitaciones de la regresión lineal en este caso\n",
    "print(\"\\nLimitaciones de la regresión lineal en este caso:\")\n",
    "print(\"- La regresión lineal asume una relación lineal entre las variables predictoras y la variable de respuesta. Esto puede no ser cierto para todos los casos, especialmente si hay relaciones no lineales en los datos.\")\n",
    "print(\"- La regresión lineal también asume independencia entre las variables predictoras. Si las variables están correlacionadas entre sí, esto puede afectar la precisión de los coeficientes estimados.\")\n",
    "print(\"- Además, la regresión lineal puede no capturar adecuadamente la complejidad de los datos si hay interacciones entre las variables predictoras que no se tienen en cuenta en el modelo lineal.\")\n",
    "\n",
    "# Imprimir el error cuadrático medio\n",
    "print(\"Error cuadrático medio:\", mse)"
   ]
  },
  {
   "cell_type": "markdown",
   "metadata": {},
   "source": [
    "### Punto 4 - Árbol de decisión manual\n",
    "En la celda 4 cree un árbol de decisiones para pronosticar la variable \"total\" iterando **manualmente** sobre las variables \"hour\" y  \"season\". El árbol debe tener al menos 6 nodos finales."
   ]
  },
  {
   "cell_type": "code",
   "execution_count": 51,
   "metadata": {},
   "outputs": [
    {
     "name": "stdout",
     "output_type": "stream",
     "text": [
      "{'prediction': None, 'level': 0, 'split': [9, 7.0], 'n_samples': 114, 'left': {'prediction': None, 'level': 1, 'split': [9, 5.0], 'n_samples': 68, 'left': {'prediction': 4.088235294117647, 'level': 2, 'split': None, 'n_samples': 34}, 'right': {'prediction': 6.529411764705882, 'level': 2, 'split': None, 'n_samples': 34}}, 'right': {'prediction': 10.065217391304348, 'level': 1, 'split': None, 'n_samples': 46}}\n"
     ]
    }
   ],
   "source": [
    "# Celda 4\n",
    "\n",
    "# Definición de la función gini para calcular el índice de Gini\n",
    "def gini(y):\n",
    "    if y.shape[0] == 0:\n",
    "        return 0\n",
    "    else:\n",
    "        return 1 - (y.mean()**2 + (1 - y.mean())**2)\n",
    "\n",
    "# Definición de la función gini_impurity para calcular la impureza de Gini para un nodo\n",
    "def gini_impurity(X_col, y, split):\n",
    "    filter_l = X_col < split\n",
    "    y_l = y.loc[filter_l]\n",
    "    y_r = y.loc[~filter_l]\n",
    "    \n",
    "    n_l = y_l.shape[0]\n",
    "    n_r = y_r.shape[0]\n",
    "    \n",
    "    gini_y = gini(y)\n",
    "    gini_l = gini(y_l)\n",
    "    gini_r = gini(y_r)\n",
    "    \n",
    "    gini_impurity_ = gini_y - (n_l / (n_l + n_r) * gini_l + n_r / (n_l + n_r) * gini_r)\n",
    "    \n",
    "    return gini_impurity_\n",
    "\n",
    "# Definición de la función best_split para encontrar la mejor división para un nodo\n",
    "def best_split(X, y, num_pct=10):\n",
    "    features = range(X.shape[1])\n",
    "    \n",
    "    best_split = [0, 0, 0]  # j, split, gain\n",
    "    \n",
    "    for j in features:\n",
    "        splits = np.percentile(X.iloc[:, j], np.arange(0, 100, 100.0 / (num_pct+1)).tolist())\n",
    "        splits = np.unique(splits)[1:]\n",
    "        \n",
    "        for split in splits:\n",
    "            gain = gini_impurity(X.iloc[:, j], y, split)\n",
    "                        \n",
    "            if gain > best_split[2]:\n",
    "                best_split = [j, split, gain]\n",
    "    \n",
    "    return best_split\n",
    "\n",
    "# Definición de la función tree_grow para construir el árbol de decisiones de forma recursiva\n",
    "def tree_grow(X, y, level=0, min_gain=0.001, max_depth=None, num_pct=10, min_samples_split=2, min_samples_leaf=1):\n",
    "    # Si solo hay una observación o se alcanza la profundidad máxima, se detiene\n",
    "    if X.shape[0] == 1 or level == max_depth:\n",
    "        return {'prediction': y.mean(), 'level': level, 'split': None, 'n_samples': X.shape[0]}\n",
    "    \n",
    "    # Buscar la mejor división\n",
    "    j, split, gain = best_split(X, y, num_pct)\n",
    "    \n",
    "    # Revisar el criterio de parada\n",
    "    if gain < min_gain or X.shape[0] < min_samples_split:\n",
    "        return {'prediction': y.mean(), 'level': level, 'split': None, 'n_samples': X.shape[0]}\n",
    "    \n",
    "    # Dividir el conjunto de datos\n",
    "    filter_l = X.iloc[:, j] < split\n",
    "    X_l, y_l = X.loc[filter_l], y.loc[filter_l]\n",
    "    X_r, y_r = X.loc[~filter_l], y.loc[~filter_l]\n",
    "    \n",
    "    # Revisar el número mínimo de muestras en cada hoja\n",
    "    if X_l.shape[0] < min_samples_leaf or X_r.shape[0] < min_samples_leaf:\n",
    "        return {'prediction': y.mean(), 'level': level, 'split': None, 'n_samples': X.shape[0]}\n",
    "    \n",
    "    # Construir los subárboles de forma recursiva\n",
    "    tree = {'prediction': None, 'level': level, 'split': [j, split], 'n_samples': X.shape[0]}\n",
    "    tree['left'] = tree_grow(X_l, y_l, level + 1, min_gain=min_gain, max_depth=max_depth, num_pct=num_pct, min_samples_split=min_samples_split, min_samples_leaf=min_samples_leaf)\n",
    "    tree['right'] = tree_grow(X_r, y_r, level + 1, min_gain=min_gain, max_depth=max_depth, num_pct=num_pct, min_samples_split=min_samples_split, min_samples_leaf=min_samples_leaf)\n",
    "    \n",
    "    return tree\n",
    "\n",
    "# Definición de la función tree_predict para hacer predicciones con el árbol de decisiones\n",
    "def tree_predict(X, tree):\n",
    "    predictions = np.zeros(X.shape[0])\n",
    "    \n",
    "    # Función auxiliar para realizar la predicción para una única observación\n",
    "    def predict_obs(x, tree):\n",
    "        # Si es una hoja, devolver la predicción\n",
    "        if tree['split'] is None:\n",
    "            return tree['prediction']\n",
    "        # Si no, seguir descendiendo por el árbol\n",
    "        else:\n",
    "            j, split = tree['split']\n",
    "            if x[j] < split:\n",
    "                return predict_obs(x, tree['left'])\n",
    "            else:\n",
    "                return predict_obs(x, tree['right'])\n",
    "    \n",
    "    # Aplicar la función de predicción a cada observación\n",
    "    for i in range(X.shape[0]):\n",
    "        predictions[i] = predict_obs(X.iloc[i, :], tree)\n",
    "    \n",
    "    return predictions\n",
    "\n",
    "# Iteración manual sobre las variables \"hour\" y \"season\" para construir un árbol con al menos 6 nodos finales\n",
    "max_depth = 10  # Profundidad máxima del árbol\n",
    "num_pct = 10  # Número de puntos de corte para la búsqueda de la mejor división\n",
    "min_samples_split = 50  # Mínimo número de muestras para dividir un nodo interno\n",
    "min_samples_leaf = 20  # Mínimo número de muestras en una hoja\n",
    "\n",
    "best_tree = None\n",
    "best_score = -1\n",
    "\n",
    "for hour in range(24):\n",
    "    for season in range(1, 5):\n",
    "        X_sub = bikes[(bikes['hour'] == hour) & (bikes['season'] == season)].drop(['total'], axis=1)\n",
    "        y_sub = bikes[(bikes['hour'] == hour) & (bikes['season'] == season)]['total']\n",
    "        \n",
    "        if X_sub.shape[0] >= min_samples_split:\n",
    "            tree = tree_grow(X_sub, y_sub, max_depth=max_depth, num_pct=num_pct, min_samples_split=min_samples_split, min_samples_leaf=min_samples_leaf)\n",
    "            predictions = tree_predict(X_sub, tree)\n",
    "            score = np.mean((predictions - y_sub) ** 2)\n",
    "            \n",
    "            if best_tree is None or score < best_score:\n",
    "                best_tree = tree\n",
    "                best_score = score\n",
    "\n",
    "print(\"Árbol de decisiones construido manualmente:\")\n",
    "print(best_tree)\n"
   ]
  },
  {
   "cell_type": "markdown",
   "metadata": {},
   "source": [
    "### Punto 5 - Árbol de decisión con librería\n",
    "En la celda 5 entrene un árbol de decisiones con la **librería sklearn**, usando las variables predictoras \"season\" y \"hour\" y calibre los parámetros que considere conveniente para obtener un mejor desempeño. Recuerde dividir los datos en conjuntos de entrenamiento y validación para esto. Comente el desempeño del modelo con alguna métrica de desempeño de modelos de regresión y compare desempeño con el modelo del punto 3."
   ]
  },
  {
   "cell_type": "code",
   "execution_count": 57,
   "metadata": {},
   "outputs": [
    {
     "name": "stdout",
     "output_type": "stream",
     "text": [
      "Error cuadrático medio: 13454.101382166964\n"
     ]
    }
   ],
   "source": [
    "# Celda 5\n",
    "from sklearn.model_selection import train_test_split\n",
    "from sklearn.tree import DecisionTreeRegressor\n",
    "from sklearn.metrics import mean_squared_error\n",
    "\n",
    "# Dividir los datos en conjunto de entrenamiento y conjunto de prueba\n",
    "X_train, X_test, y_train, y_test = train_test_split(bikes[['season', 'hour']], bikes['total'], test_size=0.2, random_state=42)\n",
    "\n",
    "# Inicializar y entrenar el modelo de árbol de decisiones\n",
    "tree_reg = DecisionTreeRegressor(random_state=42)\n",
    "tree_reg.fit(X_train, y_train)\n",
    "\n",
    "# Predecir en el conjunto de prueba\n",
    "y_pred = tree_reg.predict(X_test)\n",
    "\n",
    "# Calcular el error cuadrático medio (MSE)\n",
    "mse = mean_squared_error(y_test, y_pred)\n",
    "print(\"Error cuadrático medio:\", mse)\n",
    "\n"
   ]
  },
  {
   "cell_type": "markdown",
   "metadata": {},
   "source": [
    "Un MSE más bajo indica un mejor rendimiento del modelo en términos de predicción. Por lo tanto, el modelo basado en árboles de decisión parece ser más preciso en este conjunto de datos en particular, al menos según el MSE calculado."
   ]
  },
  {
   "cell_type": "markdown",
   "metadata": {},
   "source": [
    "## Parte B - Métodos de ensamblajes\n",
    "En esta parte del taller se usará el conjunto de datos de Popularidad de Noticias Online. El objetivo es predecir si la notica es popular o no, la popularidad está dada por la cantidad de reacciones en redes sociales. Para más detalles puede visitar el siguiente enlace: [datos](https://archive.ics.uci.edu/ml/datasets/online+news+popularity)."
   ]
  },
  {
   "cell_type": "markdown",
   "metadata": {},
   "source": [
    "### Datos popularidad de noticias"
   ]
  },
  {
   "cell_type": "code",
   "execution_count": 58,
   "metadata": {
    "scrolled": true
   },
   "outputs": [
    {
     "data": {
      "text/html": [
       "<div>\n",
       "<style scoped>\n",
       "    .dataframe tbody tr th:only-of-type {\n",
       "        vertical-align: middle;\n",
       "    }\n",
       "\n",
       "    .dataframe tbody tr th {\n",
       "        vertical-align: top;\n",
       "    }\n",
       "\n",
       "    .dataframe thead th {\n",
       "        text-align: right;\n",
       "    }\n",
       "</style>\n",
       "<table border=\"1\" class=\"dataframe\">\n",
       "  <thead>\n",
       "    <tr style=\"text-align: right;\">\n",
       "      <th></th>\n",
       "      <th>url</th>\n",
       "      <th>timedelta</th>\n",
       "      <th>n_tokens_title</th>\n",
       "      <th>n_tokens_content</th>\n",
       "      <th>n_unique_tokens</th>\n",
       "      <th>n_non_stop_words</th>\n",
       "      <th>n_non_stop_unique_tokens</th>\n",
       "      <th>num_hrefs</th>\n",
       "      <th>num_self_hrefs</th>\n",
       "      <th>num_imgs</th>\n",
       "      <th>...</th>\n",
       "      <th>min_positive_polarity</th>\n",
       "      <th>max_positive_polarity</th>\n",
       "      <th>avg_negative_polarity</th>\n",
       "      <th>min_negative_polarity</th>\n",
       "      <th>max_negative_polarity</th>\n",
       "      <th>title_subjectivity</th>\n",
       "      <th>title_sentiment_polarity</th>\n",
       "      <th>abs_title_subjectivity</th>\n",
       "      <th>abs_title_sentiment_polarity</th>\n",
       "      <th>Popular</th>\n",
       "    </tr>\n",
       "  </thead>\n",
       "  <tbody>\n",
       "    <tr>\n",
       "      <th>0</th>\n",
       "      <td>http://mashable.com/2014/12/10/cia-torture-rep...</td>\n",
       "      <td>28.0</td>\n",
       "      <td>9.0</td>\n",
       "      <td>188.0</td>\n",
       "      <td>0.732620</td>\n",
       "      <td>1.0</td>\n",
       "      <td>0.844262</td>\n",
       "      <td>5.0</td>\n",
       "      <td>1.0</td>\n",
       "      <td>1.0</td>\n",
       "      <td>...</td>\n",
       "      <td>0.200000</td>\n",
       "      <td>0.80</td>\n",
       "      <td>-0.487500</td>\n",
       "      <td>-0.60</td>\n",
       "      <td>-0.250000</td>\n",
       "      <td>0.9</td>\n",
       "      <td>0.8</td>\n",
       "      <td>0.4</td>\n",
       "      <td>0.8</td>\n",
       "      <td>1</td>\n",
       "    </tr>\n",
       "    <tr>\n",
       "      <th>1</th>\n",
       "      <td>http://mashable.com/2013/10/18/bitlock-kicksta...</td>\n",
       "      <td>447.0</td>\n",
       "      <td>7.0</td>\n",
       "      <td>297.0</td>\n",
       "      <td>0.653199</td>\n",
       "      <td>1.0</td>\n",
       "      <td>0.815789</td>\n",
       "      <td>9.0</td>\n",
       "      <td>4.0</td>\n",
       "      <td>1.0</td>\n",
       "      <td>...</td>\n",
       "      <td>0.160000</td>\n",
       "      <td>0.50</td>\n",
       "      <td>-0.135340</td>\n",
       "      <td>-0.40</td>\n",
       "      <td>-0.050000</td>\n",
       "      <td>0.1</td>\n",
       "      <td>-0.1</td>\n",
       "      <td>0.4</td>\n",
       "      <td>0.1</td>\n",
       "      <td>0</td>\n",
       "    </tr>\n",
       "    <tr>\n",
       "      <th>2</th>\n",
       "      <td>http://mashable.com/2013/07/24/google-glass-po...</td>\n",
       "      <td>533.0</td>\n",
       "      <td>11.0</td>\n",
       "      <td>181.0</td>\n",
       "      <td>0.660377</td>\n",
       "      <td>1.0</td>\n",
       "      <td>0.775701</td>\n",
       "      <td>4.0</td>\n",
       "      <td>3.0</td>\n",
       "      <td>1.0</td>\n",
       "      <td>...</td>\n",
       "      <td>0.136364</td>\n",
       "      <td>1.00</td>\n",
       "      <td>0.000000</td>\n",
       "      <td>0.00</td>\n",
       "      <td>0.000000</td>\n",
       "      <td>0.3</td>\n",
       "      <td>1.0</td>\n",
       "      <td>0.2</td>\n",
       "      <td>1.0</td>\n",
       "      <td>0</td>\n",
       "    </tr>\n",
       "    <tr>\n",
       "      <th>3</th>\n",
       "      <td>http://mashable.com/2013/11/21/these-are-the-m...</td>\n",
       "      <td>413.0</td>\n",
       "      <td>12.0</td>\n",
       "      <td>781.0</td>\n",
       "      <td>0.497409</td>\n",
       "      <td>1.0</td>\n",
       "      <td>0.677350</td>\n",
       "      <td>10.0</td>\n",
       "      <td>3.0</td>\n",
       "      <td>1.0</td>\n",
       "      <td>...</td>\n",
       "      <td>0.100000</td>\n",
       "      <td>1.00</td>\n",
       "      <td>-0.195701</td>\n",
       "      <td>-0.40</td>\n",
       "      <td>-0.071429</td>\n",
       "      <td>0.0</td>\n",
       "      <td>0.0</td>\n",
       "      <td>0.5</td>\n",
       "      <td>0.0</td>\n",
       "      <td>0</td>\n",
       "    </tr>\n",
       "    <tr>\n",
       "      <th>4</th>\n",
       "      <td>http://mashable.com/2014/02/11/parking-ticket-...</td>\n",
       "      <td>331.0</td>\n",
       "      <td>8.0</td>\n",
       "      <td>177.0</td>\n",
       "      <td>0.685714</td>\n",
       "      <td>1.0</td>\n",
       "      <td>0.830357</td>\n",
       "      <td>3.0</td>\n",
       "      <td>2.0</td>\n",
       "      <td>1.0</td>\n",
       "      <td>...</td>\n",
       "      <td>0.100000</td>\n",
       "      <td>0.55</td>\n",
       "      <td>-0.175000</td>\n",
       "      <td>-0.25</td>\n",
       "      <td>-0.100000</td>\n",
       "      <td>0.0</td>\n",
       "      <td>0.0</td>\n",
       "      <td>0.5</td>\n",
       "      <td>0.0</td>\n",
       "      <td>0</td>\n",
       "    </tr>\n",
       "  </tbody>\n",
       "</table>\n",
       "<p>5 rows × 61 columns</p>\n",
       "</div>"
      ],
      "text/plain": [
       "                                                 url  timedelta  \\\n",
       "0  http://mashable.com/2014/12/10/cia-torture-rep...       28.0   \n",
       "1  http://mashable.com/2013/10/18/bitlock-kicksta...      447.0   \n",
       "2  http://mashable.com/2013/07/24/google-glass-po...      533.0   \n",
       "3  http://mashable.com/2013/11/21/these-are-the-m...      413.0   \n",
       "4  http://mashable.com/2014/02/11/parking-ticket-...      331.0   \n",
       "\n",
       "   n_tokens_title  n_tokens_content  n_unique_tokens  n_non_stop_words  \\\n",
       "0             9.0             188.0         0.732620               1.0   \n",
       "1             7.0             297.0         0.653199               1.0   \n",
       "2            11.0             181.0         0.660377               1.0   \n",
       "3            12.0             781.0         0.497409               1.0   \n",
       "4             8.0             177.0         0.685714               1.0   \n",
       "\n",
       "   n_non_stop_unique_tokens  num_hrefs  num_self_hrefs  num_imgs  ...  \\\n",
       "0                  0.844262        5.0             1.0       1.0  ...   \n",
       "1                  0.815789        9.0             4.0       1.0  ...   \n",
       "2                  0.775701        4.0             3.0       1.0  ...   \n",
       "3                  0.677350       10.0             3.0       1.0  ...   \n",
       "4                  0.830357        3.0             2.0       1.0  ...   \n",
       "\n",
       "   min_positive_polarity  max_positive_polarity  avg_negative_polarity  \\\n",
       "0               0.200000                   0.80              -0.487500   \n",
       "1               0.160000                   0.50              -0.135340   \n",
       "2               0.136364                   1.00               0.000000   \n",
       "3               0.100000                   1.00              -0.195701   \n",
       "4               0.100000                   0.55              -0.175000   \n",
       "\n",
       "   min_negative_polarity  max_negative_polarity  title_subjectivity  \\\n",
       "0                  -0.60              -0.250000                 0.9   \n",
       "1                  -0.40              -0.050000                 0.1   \n",
       "2                   0.00               0.000000                 0.3   \n",
       "3                  -0.40              -0.071429                 0.0   \n",
       "4                  -0.25              -0.100000                 0.0   \n",
       "\n",
       "   title_sentiment_polarity  abs_title_subjectivity  \\\n",
       "0                       0.8                     0.4   \n",
       "1                      -0.1                     0.4   \n",
       "2                       1.0                     0.2   \n",
       "3                       0.0                     0.5   \n",
       "4                       0.0                     0.5   \n",
       "\n",
       "   abs_title_sentiment_polarity  Popular  \n",
       "0                           0.8        1  \n",
       "1                           0.1        0  \n",
       "2                           1.0        0  \n",
       "3                           0.0        0  \n",
       "4                           0.0        0  \n",
       "\n",
       "[5 rows x 61 columns]"
      ]
     },
     "execution_count": 58,
     "metadata": {},
     "output_type": "execute_result"
    }
   ],
   "source": [
    "# Lectura de la información de archivo .csv\n",
    "df = pd.read_csv('https://raw.githubusercontent.com/davidzarruk/MIAD_ML_NLP_2023/main/datasets/mashable.csv', index_col=0)\n",
    "df.head()"
   ]
  },
  {
   "cell_type": "code",
   "execution_count": 68,
   "metadata": {},
   "outputs": [
    {
     "data": {
      "text/plain": [
       "0.5"
      ]
     },
     "execution_count": 68,
     "metadata": {},
     "output_type": "execute_result"
    }
   ],
   "source": [
    "# Definición variable de interes y variables predictoras\n",
    "X = df.drop(['url', 'Popular'], axis=1)\n",
    "y = df['Popular']\n",
    "y.mean()"
   ]
  },
  {
   "cell_type": "code",
   "execution_count": 71,
   "metadata": {},
   "outputs": [],
   "source": [
    "# División de la muestra en set de entrenamiento y prueba\n",
    "from sklearn.model_selection import train_test_split\n",
    "X_train, X_test, y_train, y_test = train_test_split(X, y, random_state=1)"
   ]
  },
  {
   "cell_type": "markdown",
   "metadata": {},
   "source": [
    "### Punto 6 - Árbol de decisión y regresión logística\n",
    "En la celda 6 construya un árbol de decisión y una regresión logística. Para el árbol calibre al menos un parámetro y evalúe el desempeño de cada modelo usando las métricas de Accuracy y F1-Score."
   ]
  },
  {
   "cell_type": "code",
   "execution_count": 61,
   "metadata": {},
   "outputs": [
    {
     "name": "stdout",
     "output_type": "stream",
     "text": [
      "Árbol de decisión:\n",
      "Accuracy: 0.6400\n",
      "F1-Score: 0.6633\n",
      "\n",
      "Regresión logística:\n",
      "Accuracy: 0.6120\n",
      "F1-Score: 0.6019\n"
     ]
    }
   ],
   "source": [
    "# Celda 6\n",
    "from sklearn.tree import DecisionTreeClassifier\n",
    "from sklearn.linear_model import LogisticRegression\n",
    "from sklearn.metrics import accuracy_score, f1_score\n",
    "\n",
    "# Supongamos que ya tienes cargado tu DataFrame df\n",
    "\n",
    "\n",
    "# Árbol de decisión con calibración de parámetros\n",
    "tree_clf = DecisionTreeClassifier(max_depth=5, random_state=42)  # Puedes cambiar max_depth u otros parámetros\n",
    "tree_clf.fit(X_train, y_train)\n",
    "\n",
    "# Regresión logística\n",
    "log_reg = LogisticRegression(max_iter=1000, random_state=42)  # Puedes cambiar max_iter u otros parámetros\n",
    "log_reg.fit(X_train, y_train)\n",
    "\n",
    "# Predicciones\n",
    "y_pred_tree = tree_clf.predict(X_test)\n",
    "y_pred_log_reg = log_reg.predict(X_test)\n",
    "\n",
    "# Evaluación del desempeño\n",
    "accuracy_tree = accuracy_score(y_test, y_pred_tree)\n",
    "f1_score_tree = f1_score(y_test, y_pred_tree)\n",
    "\n",
    "accuracy_log_reg = accuracy_score(y_test, y_pred_log_reg)\n",
    "f1_score_log_reg = f1_score(y_test, y_pred_log_reg)\n",
    "\n",
    "print(\"Árbol de decisión:\")\n",
    "print(f\"Accuracy: {accuracy_tree:.4f}\")\n",
    "print(f\"F1-Score: {f1_score_tree:.4f}\")\n",
    "\n",
    "print(\"\\nRegresión logística:\")\n",
    "print(f\"Accuracy: {accuracy_log_reg:.4f}\")\n",
    "print(f\"F1-Score: {f1_score_log_reg:.4f}\")\n"
   ]
  },
  {
   "cell_type": "markdown",
   "metadata": {},
   "source": [
    "### Punto 7 - Votación Mayoritaria\n",
    "En la celda 7 elabore un esamble con la metodología de **Votación mayoritaria** compuesto por 300 muestras bagged donde:\n",
    "\n",
    "-las primeras 100 muestras vienen de árboles de decisión donde max_depth tome un valor de su elección\\\n",
    "-las segundas 100 muestras vienen de árboles de decisión donde min_samples_leaf tome un valor de su elección\\\n",
    "-las últimas 100 muestras vienen de regresiones logísticas\n",
    "\n",
    "Evalúe cada uno de los tres modelos de manera independiente utilizando las métricas de Accuracy y F1-Score, luego evalúe el ensamble de modelos y compare los resultados. \n",
    "\n",
    "Nota: \n",
    "\n",
    "Para este ensamble de 300 modelos, deben hacer votación mayoritaria. Esto lo pueden hacer de distintas maneras. La más \"fácil\" es haciendo la votación \"manualmente\", como se hace a partir del minuto 5:45 del video de Ejemplo práctico de emsablajes en Coursera. Digo que es la más fácil porque si hacen la votación mayoritaria sobre las 300 predicciones van a obtener lo que se espera.\n",
    "\n",
    "Otra opción es: para cada uno de los 3 tipos de modelos, entrenar un ensamble de 100 modelos cada uno. Predecir para cada uno de esos tres ensambles y luego predecir como un ensamble de los 3 ensambles. La cuestión es que la votación mayoritaria al usar los 3 ensambles no necesariamente va a generar el mismo resultado que si hacen la votación mayoritaria directamente sobre los 300 modelos. Entonces, para los que quieran hacer esto, deben hacer ese último cálculo con cuidado.\n",
    "\n",
    "Para los que quieran hacerlo como ensamble de ensambles, digo que se debe hacer el ensamble final con cuidado por lo siguiente. Supongamos que:\n",
    "\n",
    "* para los 100 árboles del primer tipo, la votación mayoritaria es: 55% de los modelos predicen que la clase de una observación es \"1\"\n",
    "* para los 100 árboles del segundo tipo, la votación mayoritaria es: 55% de los modelos predicen que la clase de una observación es \"1\"\n",
    "* para las 100 regresiones logísticas, la votación mayoritaria es: 10% de los modelos predicen que la clase de una observación es \"1\"\n",
    "\n",
    "Si se hace la votación mayoritaria de los 300 modelos, la predicción de esa observación debería ser: (100*55%+100*55%+100*10%)/300 = 40% de los modelos votan porque la predicción debería ser \"1\". Es decir, la predicción del ensamble es \"0\" (dado que menos del 50% de modelos predijo un 1).\n",
    "\n",
    "Sin embargo, si miramos cada ensamble por separado, el primer ensamble predice \"1\", el segundo ensamble predice \"1\" y el último ensamble predice \"0\". Si hago votación mayoritaria sobre esto, la predicción va a ser \"1\", lo cual es distinto a si se hace la votación mayoritaria sobre los 300 modelos."
   ]
  },
  {
   "cell_type": "code",
   "execution_count": 73,
   "metadata": {},
   "outputs": [],
   "source": [
    "# Celda 7\n",
    "# Creación de 300 muestras de bootstrap\n",
    "n_estimators = 300\n",
    "np.random.seed(123)\n",
    "\n",
    "n_samples = X_train.shape[0]\n",
    "samples = [np.random.choice(a=n_samples, size=n_samples, replace=True) for _ in range(n_estimators)]"
   ]
  },
  {
   "cell_type": "code",
   "execution_count": 74,
   "metadata": {},
   "outputs": [],
   "source": [
    "# Entrenamiento de 300 modelos con las 300 muestras boostrap\n",
    "\n",
    "from sklearn.tree import DecisionTreeClassifier\n",
    "\n",
    "np.random.seed(123) \n",
    "seeds = np.random.randint(1, 10000, size=n_estimators)\n",
    "\n",
    "trees = {}\n",
    "for i in range(n_estimators):\n",
    "    trees[i] = DecisionTreeClassifier(max_features=\"sqrt\", max_depth=None, random_state=seeds[i])\n",
    "    trees[i].fit(X_train.iloc[samples[i]], y_train.iloc[samples[i]])"
   ]
  },
  {
   "cell_type": "code",
   "execution_count": 75,
   "metadata": {},
   "outputs": [
    {
     "data": {
      "text/html": [
       "<div>\n",
       "<style scoped>\n",
       "    .dataframe tbody tr th:only-of-type {\n",
       "        vertical-align: middle;\n",
       "    }\n",
       "\n",
       "    .dataframe tbody tr th {\n",
       "        vertical-align: top;\n",
       "    }\n",
       "\n",
       "    .dataframe thead th {\n",
       "        text-align: right;\n",
       "    }\n",
       "</style>\n",
       "<table border=\"1\" class=\"dataframe\">\n",
       "  <thead>\n",
       "    <tr style=\"text-align: right;\">\n",
       "      <th></th>\n",
       "      <th>0</th>\n",
       "      <th>1</th>\n",
       "      <th>2</th>\n",
       "      <th>3</th>\n",
       "      <th>4</th>\n",
       "      <th>5</th>\n",
       "      <th>6</th>\n",
       "      <th>7</th>\n",
       "      <th>8</th>\n",
       "      <th>9</th>\n",
       "      <th>...</th>\n",
       "      <th>290</th>\n",
       "      <th>291</th>\n",
       "      <th>292</th>\n",
       "      <th>293</th>\n",
       "      <th>294</th>\n",
       "      <th>295</th>\n",
       "      <th>296</th>\n",
       "      <th>297</th>\n",
       "      <th>298</th>\n",
       "      <th>299</th>\n",
       "    </tr>\n",
       "  </thead>\n",
       "  <tbody>\n",
       "    <tr>\n",
       "      <th>1483</th>\n",
       "      <td>0</td>\n",
       "      <td>0</td>\n",
       "      <td>1</td>\n",
       "      <td>0</td>\n",
       "      <td>1</td>\n",
       "      <td>0</td>\n",
       "      <td>1</td>\n",
       "      <td>1</td>\n",
       "      <td>0</td>\n",
       "      <td>1</td>\n",
       "      <td>...</td>\n",
       "      <td>1</td>\n",
       "      <td>1</td>\n",
       "      <td>1</td>\n",
       "      <td>1</td>\n",
       "      <td>1</td>\n",
       "      <td>1</td>\n",
       "      <td>0</td>\n",
       "      <td>0</td>\n",
       "      <td>1</td>\n",
       "      <td>1</td>\n",
       "    </tr>\n",
       "    <tr>\n",
       "      <th>2185</th>\n",
       "      <td>1</td>\n",
       "      <td>1</td>\n",
       "      <td>1</td>\n",
       "      <td>1</td>\n",
       "      <td>0</td>\n",
       "      <td>1</td>\n",
       "      <td>1</td>\n",
       "      <td>1</td>\n",
       "      <td>1</td>\n",
       "      <td>1</td>\n",
       "      <td>...</td>\n",
       "      <td>0</td>\n",
       "      <td>1</td>\n",
       "      <td>1</td>\n",
       "      <td>0</td>\n",
       "      <td>1</td>\n",
       "      <td>1</td>\n",
       "      <td>0</td>\n",
       "      <td>0</td>\n",
       "      <td>1</td>\n",
       "      <td>1</td>\n",
       "    </tr>\n",
       "    <tr>\n",
       "      <th>2520</th>\n",
       "      <td>1</td>\n",
       "      <td>0</td>\n",
       "      <td>1</td>\n",
       "      <td>1</td>\n",
       "      <td>1</td>\n",
       "      <td>0</td>\n",
       "      <td>0</td>\n",
       "      <td>1</td>\n",
       "      <td>0</td>\n",
       "      <td>0</td>\n",
       "      <td>...</td>\n",
       "      <td>0</td>\n",
       "      <td>0</td>\n",
       "      <td>1</td>\n",
       "      <td>0</td>\n",
       "      <td>1</td>\n",
       "      <td>0</td>\n",
       "      <td>0</td>\n",
       "      <td>0</td>\n",
       "      <td>1</td>\n",
       "      <td>0</td>\n",
       "    </tr>\n",
       "    <tr>\n",
       "      <th>3721</th>\n",
       "      <td>0</td>\n",
       "      <td>1</td>\n",
       "      <td>1</td>\n",
       "      <td>1</td>\n",
       "      <td>1</td>\n",
       "      <td>1</td>\n",
       "      <td>1</td>\n",
       "      <td>1</td>\n",
       "      <td>0</td>\n",
       "      <td>1</td>\n",
       "      <td>...</td>\n",
       "      <td>0</td>\n",
       "      <td>0</td>\n",
       "      <td>0</td>\n",
       "      <td>1</td>\n",
       "      <td>1</td>\n",
       "      <td>0</td>\n",
       "      <td>0</td>\n",
       "      <td>1</td>\n",
       "      <td>1</td>\n",
       "      <td>0</td>\n",
       "    </tr>\n",
       "    <tr>\n",
       "      <th>3727</th>\n",
       "      <td>0</td>\n",
       "      <td>0</td>\n",
       "      <td>0</td>\n",
       "      <td>0</td>\n",
       "      <td>0</td>\n",
       "      <td>0</td>\n",
       "      <td>0</td>\n",
       "      <td>0</td>\n",
       "      <td>0</td>\n",
       "      <td>1</td>\n",
       "      <td>...</td>\n",
       "      <td>1</td>\n",
       "      <td>0</td>\n",
       "      <td>0</td>\n",
       "      <td>0</td>\n",
       "      <td>1</td>\n",
       "      <td>0</td>\n",
       "      <td>0</td>\n",
       "      <td>0</td>\n",
       "      <td>1</td>\n",
       "      <td>1</td>\n",
       "    </tr>\n",
       "  </tbody>\n",
       "</table>\n",
       "<p>5 rows × 300 columns</p>\n",
       "</div>"
      ],
      "text/plain": [
       "     0   1   2   3   4   5   6   7   8   9    ... 290 291 292 293 294 295 296  \\\n",
       "1483   0   0   1   0   1   0   1   1   0   1  ...   1   1   1   1   1   1   0   \n",
       "2185   1   1   1   1   0   1   1   1   1   1  ...   0   1   1   0   1   1   0   \n",
       "2520   1   0   1   1   1   0   0   1   0   0  ...   0   0   1   0   1   0   0   \n",
       "3721   0   1   1   1   1   1   1   1   0   1  ...   0   0   0   1   1   0   0   \n",
       "3727   0   0   0   0   0   0   0   0   0   1  ...   1   0   0   0   1   0   0   \n",
       "\n",
       "     297 298 299  \n",
       "1483   0   1   1  \n",
       "2185   0   1   1  \n",
       "2520   0   1   0  \n",
       "3721   1   1   0  \n",
       "3727   0   1   1  \n",
       "\n",
       "[5 rows x 300 columns]"
      ]
     },
     "execution_count": 75,
     "metadata": {},
     "output_type": "execute_result"
    }
   ],
   "source": [
    "# Predicción para los datos del set de test con cada modelo\n",
    "y_pred_df = pd.DataFrame(index=X_test.index, columns=list(range(n_estimators)))\n",
    "for i in range(n_estimators):\n",
    "    y_pred_df.iloc[:, i] = trees[i].predict(X_test)\n",
    "\n",
    "y_pred_df.head()"
   ]
  },
  {
   "cell_type": "code",
   "execution_count": 76,
   "metadata": {},
   "outputs": [
    {
     "data": {
      "text/plain": [
       "1483    206\n",
       "2185    203\n",
       "2520    183\n",
       "3721    198\n",
       "3727     78\n",
       "4524    161\n",
       "234      52\n",
       "4735    107\n",
       "5839    165\n",
       "2939    174\n",
       "dtype: object"
      ]
     },
     "execution_count": 76,
     "metadata": {},
     "output_type": "execute_result"
    }
   ],
   "source": [
    "# Impresión de la cantidad de modelos que predijeron 1 para 10 observaciones\n",
    "y_pred_df.sum(axis=1)[:10]"
   ]
  },
  {
   "cell_type": "code",
   "execution_count": 79,
   "metadata": {},
   "outputs": [
    {
     "data": {
      "text/plain": [
       "300"
      ]
     },
     "execution_count": 79,
     "metadata": {},
     "output_type": "execute_result"
    }
   ],
   "source": [
    "n_estimators"
   ]
  },
  {
   "cell_type": "code",
   "execution_count": 81,
   "metadata": {},
   "outputs": [
    {
     "data": {
      "text/plain": [
       "0.6574440052700922"
      ]
     },
     "execution_count": 81,
     "metadata": {},
     "output_type": "execute_result"
    }
   ],
   "source": [
    "# Votación mayoritaria\n",
    "\n",
    "np.int = np.int32\n",
    "np.float = np.float64\n",
    "np.bool = np.bool_\n",
    "y_pred = (y_pred_df.sum(axis=1) >= (n_estimators / 2)).astype(np.int)\n",
    "\n",
    "# Desempeño al hacer votación mayoritaria\n",
    "from sklearn import metrics\n",
    "metrics.f1_score(y_pred, y_test)"
   ]
  },
  {
   "cell_type": "code",
   "execution_count": 82,
   "metadata": {},
   "outputs": [
    {
     "data": {
      "text/plain": [
       "0.6533333333333333"
      ]
     },
     "execution_count": 82,
     "metadata": {},
     "output_type": "execute_result"
    }
   ],
   "source": [
    "# Desempeño al hacer votación mayoritaria\n",
    "metrics.accuracy_score(y_pred, y_test)"
   ]
  },
  {
   "cell_type": "code",
   "execution_count": 84,
   "metadata": {},
   "outputs": [
    {
     "data": {
      "text/plain": [
       "(0.6574440052700922, 0.6533333333333333)"
      ]
     },
     "execution_count": 84,
     "metadata": {},
     "output_type": "execute_result"
    }
   ],
   "source": [
    "metrics.f1_score(y_pred, y_test), metrics.accuracy_score(y_pred, y_test)"
   ]
  },
  {
   "cell_type": "markdown",
   "metadata": {},
   "source": [
    "### Punto 8 - Votación Ponderada\n",
    "En la celda 8 elabore un ensamble con la metodología de **Votación ponderada** compuesto por 300 muestras bagged para los mismos tres escenarios del punto 7. Evalúe los modelos utilizando las métricas de Accuracy y F1-Score"
   ]
  },
  {
   "cell_type": "code",
   "execution_count": 85,
   "metadata": {},
   "outputs": [
    {
     "data": {
      "text/plain": [
       "(0.6495049504950494, 0.646)"
      ]
     },
     "execution_count": 85,
     "metadata": {},
     "output_type": "execute_result"
    }
   ],
   "source": [
    "# Celda 8\n",
    "\n",
    "# Definición del modelo BaggingClassifier de la libreria sklearn\n",
    "clf = BaggingClassifier(base_estimator=DecisionTreeClassifier(), n_estimators=300, bootstrap=True,\n",
    "                        random_state=42, n_jobs=-1, oob_score=True)\n",
    "\n",
    "# Predicción y desempeño al hacer votación mayoritaria\n",
    "clf.fit(X_train, y_train)\n",
    "y_pred = clf.predict(X_test)\n",
    "metrics.f1_score(y_pred, y_test), metrics.accuracy_score(y_pred, y_test)"
   ]
  },
  {
   "cell_type": "code",
   "execution_count": null,
   "metadata": {},
   "outputs": [],
   "source": [
    "# Obtención de los pesos alpha de cada modelo de acuerdo al error OOB\n",
    "errors = np.zeros(clf.n_estimators)\n",
    "y_pred_all_ = np.zeros((X_test.shape[0], clf.n_estimators))\n",
    "\n",
    "for i in range(clf.n_estimators):\n",
    "    oob_sample = ~clf.estimators_samples_[i]\n",
    "    y_pred_ = clf.estimators_[i].predict(X_train.values[oob_sample])\n",
    "    errors[i] = metrics.accuracy_score(y_pred_, y_train.values[oob_sample])\n",
    "    y_pred_all_[:, i] = clf.estimators_[i].predict(X_test)\n",
    "    \n",
    "alpha = (1 - errors) / (1 - errors).sum()\n",
    "y_pred = (np.sum(y_pred_all_ * alpha, axis=1) >= 0.5).astype(np.int)"
   ]
  },
  {
   "cell_type": "code",
   "execution_count": 86,
   "metadata": {},
   "outputs": [
    {
     "data": {
      "text/plain": [
       "(0.6495049504950494, 0.646)"
      ]
     },
     "execution_count": 86,
     "metadata": {},
     "output_type": "execute_result"
    }
   ],
   "source": [
    "# Desempeño al hacer votación ponderada\n",
    "metrics.f1_score(y_pred, y_test), metrics.accuracy_score(y_pred, y_test)"
   ]
  },
  {
   "cell_type": "markdown",
   "metadata": {},
   "source": [
    "### Punto 9 - Comparación y análisis de resultados\n",
    "En la celda 9 comente sobre los resultados obtenidos con las metodologías usadas en los puntos 7 y 8, compare los resultados y enuncie posibles ventajas o desventajas de cada una de ellas."
   ]
  },
  {
   "cell_type": "code",
   "execution_count": 90,
   "metadata": {},
   "outputs": [],
   "source": [
    "# Celda 9 \n",
    "# El método de votación mayoritaria tiene un rendimiento ligeramente mejor\n",
    "# tanto en términos de precisión como de F1-Score en comparación con el método\n",
    "# de votación ponderada. Sin embargo, la diferencia no parece ser significativa.\n",
    "\n",
    "#la votación ponderada puede ser más apropiada cuando se tiene información sobre \n",
    "# la calidad o confiabilidad de cada clasificador individual, mientras que la votación \n",
    "# mayoritaria puede ser más adecuada en situaciones donde la simplicidad y la robustez \n",
    "#son prioritarias, o cuando los datos están equilibrados."
   ]
  }
 ],
 "metadata": {
  "kernelspec": {
   "display_name": "Python 3 (ipykernel)",
   "language": "python",
   "name": "python3"
  },
  "language_info": {
   "codemirror_mode": {
    "name": "ipython",
    "version": 3
   },
   "file_extension": ".py",
   "mimetype": "text/x-python",
   "name": "python",
   "nbconvert_exporter": "python",
   "pygments_lexer": "ipython3",
   "version": "3.11.5"
  }
 },
 "nbformat": 4,
 "nbformat_minor": 4
}
